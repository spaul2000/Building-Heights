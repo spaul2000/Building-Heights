{
 "cells": [
  {
   "cell_type": "code",
   "execution_count": 1,
   "metadata": {},
   "outputs": [],
   "source": [
    "import pandas as pd\n",
    "\n",
    "# read the csv file into a pandas dataframe\n",
    "df = pd.read_csv('/home/Duke/folder_ckpt_files.csv')\n"
   ]
  },
  {
   "cell_type": "code",
   "execution_count": 2,
   "metadata": {},
   "outputs": [
    {
     "data": {
      "text/plain": [
       "0     ['/home/Duke/group/main/sandbox/resnet50_lr4.1...\n",
       "1     ['/home/Duke/group/main/sandbox/base-0001-vgg1...\n",
       "2     ['/home/Duke/group/main/sandbox/resnet34_lr4.3...\n",
       "3     ['/home/Duke/group/main/sandbox/resnet34_lr2.0...\n",
       "4     ['/home/Duke/group/main/sandbox/vgg16_lr0.0008...\n",
       "5     ['/home/Duke/group/main/sandbox/resnet50_lr7.2...\n",
       "6     ['/home/Duke/group/main/sandbox/vgg16_lr0.0002...\n",
       "7     ['/home/Duke/group/main/sandbox/meanband-1am-1...\n",
       "8     ['/home/Duke/group/main/sandbox/resnet34_lr1.6...\n",
       "9     ['/home/Duke/group/main/sandbox/base-0001-vgg1...\n",
       "10    ['/home/Duke/group/main/sandbox/vgg16_lr0.0008...\n",
       "11    ['/home/Duke/group/main/sandbox/efficientnet-b...\n",
       "Name: Ckpt Files, dtype: object"
      ]
     },
     "execution_count": 2,
     "metadata": {},
     "output_type": "execute_result"
    }
   ],
   "source": [
    "df['Ckpt Files']"
   ]
  },
  {
   "cell_type": "code",
   "execution_count": 3,
   "metadata": {},
   "outputs": [
    {
     "name": "stderr",
     "output_type": "stream",
     "text": [
      "/opt/conda/envs/building-heights/lib/python3.8/site-packages/tqdm/auto.py:21: TqdmWarning: IProgress not found. Please update jupyter and ipywidgets. See https://ipywidgets.readthedocs.io/en/stable/user_install.html\n",
      "  from .autonotebook import tqdm as notebook_tqdm\n"
     ]
    },
    {
     "name": "stdout",
     "output_type": "stream",
     "text": [
      "{'config': {'learning_rate': 0.0004114832193367004, 'batch_size': 8, 'seg_backbone': 'resnet50'}, 'save_dir': '/home/Duke/group/main/sandbox', 'tb_path': '/home/Duke/group/main/tb', 'task': 'height_estimation', 'exp_name': 'resnet50_lr4.115e-04_bs8', 'seg_architecture': 'UNet', 'seg_backbone': 'resnet50', 'learning_rate': 0.0004114832193367004, 'batch_size': 8, 'seg_dataset': 'inital_test', 'loss_fn': 'MSE', 'optimizer': 'Adam', 'patience': 5, 'eval_split': 'test'}\n"
     ]
    },
    {
     "name": "stderr",
     "output_type": "stream",
     "text": [
      "GPU available: True (cuda), used: True\n",
      "TPU available: False, using: 0 TPU cores\n",
      "IPU available: False, using: 0 IPUs\n",
      "HPU available: False, using: 0 HPUs\n",
      "LOCAL_RANK: 0 - CUDA_VISIBLE_DEVICES: [0]\n"
     ]
    },
    {
     "name": "stdout",
     "output_type": "stream",
     "text": [
      "Testing DataLoader 0: 100%|██████████| 269/269 [00:25<00:00, 10.59it/s]1.2149170637130737\n",
      "Testing DataLoader 0: 100%|██████████| 269/269 [00:25<00:00, 10.54it/s]\n",
      "────────────────────────────────────────────────────────────────────────────────────────────────────────────────────────\n",
      "       Test metric             DataLoader 0\n",
      "────────────────────────────────────────────────────────────────────────────────────────────────────────────────────────\n",
      "        test_loss           1.2149170637130737\n",
      "────────────────────────────────────────────────────────────────────────────────────────────────────────────────────────\n",
      "test_loss: 1.2149170637130737\n",
      "{'save_dir': '/home/Duke/group/main/sandbox', 'tb_path': '/home/Duke/group/main/tb', 'task': 'height_estimation', 'exp_name': 'base-0001-vgg19', 'seg_architecture': 'UNet', 'seg_backbone': 'vgg19', 'seg_dataset': 'inital_test', 'learning_rate': 0.0001, 'batch_size': 4, 'loss_fn': 'MSE', 'optimizer': 'Adam', 'patience': 10, 'eval_split': 'test'}\n"
     ]
    },
    {
     "name": "stderr",
     "output_type": "stream",
     "text": [
      "GPU available: True (cuda), used: True\n",
      "TPU available: False, using: 0 TPU cores\n",
      "IPU available: False, using: 0 IPUs\n",
      "HPU available: False, using: 0 HPUs\n",
      "LOCAL_RANK: 0 - CUDA_VISIBLE_DEVICES: [0]\n"
     ]
    },
    {
     "name": "stdout",
     "output_type": "stream",
     "text": [
      "Testing DataLoader 0: 100%|██████████| 537/537 [00:29<00:00, 17.93it/s]1.2053778171539307\n",
      "Testing DataLoader 0: 100%|██████████| 537/537 [00:29<00:00, 17.92it/s]\n",
      "────────────────────────────────────────────────────────────────────────────────────────────────────────────────────────\n",
      "       Test metric             DataLoader 0\n",
      "────────────────────────────────────────────────────────────────────────────────────────────────────────────────────────\n",
      "        test_loss           1.2053778171539307\n",
      "────────────────────────────────────────────────────────────────────────────────────────────────────────────────────────\n",
      "test_loss: 1.2053778171539307\n",
      "{'config': {'learning_rate': 0.00043350844639853623, 'batch_size': 16, 'seg_backbone': 'resnet34'}, 'save_dir': '/home/Duke/group/main/sandbox', 'tb_path': '/home/Duke/group/main/tb', 'task': 'height_estimation', 'exp_name': 'resnet34_lr4.335e-04_bs16', 'seg_architecture': 'UNet', 'seg_backbone': 'resnet34', 'learning_rate': 0.00043350844639853623, 'batch_size': 16, 'seg_dataset': 'inital_test', 'loss_fn': 'MSE', 'optimizer': 'Adam', 'patience': 5, 'eval_split': 'test'}\n"
     ]
    },
    {
     "name": "stderr",
     "output_type": "stream",
     "text": [
      "GPU available: True (cuda), used: True\n",
      "TPU available: False, using: 0 TPU cores\n",
      "IPU available: False, using: 0 IPUs\n",
      "HPU available: False, using: 0 HPUs\n",
      "LOCAL_RANK: 0 - CUDA_VISIBLE_DEVICES: [0]\n"
     ]
    },
    {
     "name": "stdout",
     "output_type": "stream",
     "text": [
      "Testing DataLoader 0: 100%|██████████| 135/135 [00:21<00:00,  6.23it/s]1.2675299644470215\n",
      "Testing DataLoader 0: 100%|██████████| 135/135 [00:21<00:00,  6.22it/s]\n",
      "────────────────────────────────────────────────────────────────────────────────────────────────────────────────────────\n",
      "       Test metric             DataLoader 0\n",
      "────────────────────────────────────────────────────────────────────────────────────────────────────────────────────────\n",
      "        test_loss           1.2675299644470215\n",
      "────────────────────────────────────────────────────────────────────────────────────────────────────────────────────────\n",
      "test_loss: 1.2675299644470215\n",
      "{'config': {'learning_rate': 2.0918918101909566e-05, 'batch_size': 4, 'seg_backbone': 'resnet34'}, 'save_dir': '/home/Duke/group/main/sandbox', 'tb_path': '/home/Duke/group/main/tb', 'task': 'height_estimation', 'exp_name': 'resnet34_lr2.092e-05_bs4', 'seg_architecture': 'UNet', 'seg_backbone': 'resnet34', 'learning_rate': 2.0918918101909566e-05, 'batch_size': 4, 'seg_dataset': 'inital_test', 'loss_fn': 'MSE', 'optimizer': 'Adam', 'patience': 5, 'eval_split': 'test'}\n"
     ]
    },
    {
     "name": "stderr",
     "output_type": "stream",
     "text": [
      "GPU available: True (cuda), used: True\n",
      "TPU available: False, using: 0 TPU cores\n",
      "IPU available: False, using: 0 IPUs\n",
      "HPU available: False, using: 0 HPUs\n",
      "LOCAL_RANK: 0 - CUDA_VISIBLE_DEVICES: [0]\n"
     ]
    },
    {
     "name": "stdout",
     "output_type": "stream",
     "text": [
      "Testing DataLoader 0: 100%|██████████| 537/537 [00:25<00:00, 21.28it/s]1.3091753721237183\n",
      "Testing DataLoader 0: 100%|██████████| 537/537 [00:25<00:00, 21.27it/s]\n",
      "────────────────────────────────────────────────────────────────────────────────────────────────────────────────────────\n",
      "       Test metric             DataLoader 0\n",
      "────────────────────────────────────────────────────────────────────────────────────────────────────────────────────────\n",
      "        test_loss           1.3091753721237183\n",
      "────────────────────────────────────────────────────────────────────────────────────────────────────────────────────────\n",
      "test_loss: 1.3091753721237183\n",
      "{'config': {'learning_rate': 0.0008909465453111635, 'batch_size': 4, 'seg_backbone': 'vgg16'}, 'save_dir': '/home/Duke/group/main/sandbox', 'tb_path': '/home/Duke/group/main/tb', 'task': 'height_estimation', 'exp_name': 'vgg16_lr0.0008909465453111635_bs4', 'seg_architecture': 'UNet', 'seg_backbone': 'vgg16', 'learning_rate': 0.0008909465453111635, 'batch_size': 4, 'seg_dataset': 'inital_test', 'loss_fn': 'MSE', 'optimizer': 'Adam', 'patience': 10, 'eval_split': 'test'}\n"
     ]
    },
    {
     "name": "stderr",
     "output_type": "stream",
     "text": [
      "GPU available: True (cuda), used: True\n",
      "TPU available: False, using: 0 TPU cores\n",
      "IPU available: False, using: 0 IPUs\n",
      "HPU available: False, using: 0 HPUs\n",
      "LOCAL_RANK: 0 - CUDA_VISIBLE_DEVICES: [0]\n"
     ]
    },
    {
     "name": "stdout",
     "output_type": "stream",
     "text": [
      "Testing DataLoader 0: 100%|██████████| 537/537 [00:28<00:00, 18.93it/s]1.1855237483978271\n",
      "Testing DataLoader 0: 100%|██████████| 537/537 [00:28<00:00, 18.92it/s]\n",
      "────────────────────────────────────────────────────────────────────────────────────────────────────────────────────────\n",
      "       Test metric             DataLoader 0\n",
      "────────────────────────────────────────────────────────────────────────────────────────────────────────────────────────\n",
      "        test_loss           1.1855237483978271\n",
      "────────────────────────────────────────────────────────────────────────────────────────────────────────────────────────\n",
      "test_loss: 1.1855237483978271\n",
      "{'config': {'learning_rate': 0.0007279361968780774, 'batch_size': 16, 'seg_backbone': 'resnet50'}, 'save_dir': '/home/Duke/group/main/sandbox', 'tb_path': '/home/Duke/group/main/tb', 'task': 'height_estimation', 'exp_name': 'resnet50_lr7.279e-04_bs16', 'seg_architecture': 'UNet', 'seg_backbone': 'resnet50', 'learning_rate': 0.0007279361968780774, 'batch_size': 16, 'seg_dataset': 'inital_test', 'loss_fn': 'MSE', 'optimizer': 'Adam', 'patience': 5, 'eval_split': 'test'}\n"
     ]
    },
    {
     "name": "stderr",
     "output_type": "stream",
     "text": [
      "GPU available: True (cuda), used: True\n",
      "TPU available: False, using: 0 TPU cores\n",
      "IPU available: False, using: 0 IPUs\n",
      "HPU available: False, using: 0 HPUs\n",
      "LOCAL_RANK: 0 - CUDA_VISIBLE_DEVICES: [0]\n"
     ]
    },
    {
     "name": "stdout",
     "output_type": "stream",
     "text": [
      "Testing DataLoader 0: 100%|██████████| 135/135 [00:23<00:00,  5.71it/s]1.2548649311065674\n",
      "Testing DataLoader 0: 100%|██████████| 135/135 [00:23<00:00,  5.70it/s]\n",
      "────────────────────────────────────────────────────────────────────────────────────────────────────────────────────────\n",
      "       Test metric             DataLoader 0\n",
      "────────────────────────────────────────────────────────────────────────────────────────────────────────────────────────\n",
      "        test_loss           1.2548649311065674\n",
      "────────────────────────────────────────────────────────────────────────────────────────────────────────────────────────\n",
      "test_loss: 1.2548649311065674\n",
      "{'config': {'learning_rate': 0.00021557555723586308, 'batch_size': 16, 'seg_backbone': 'vgg16'}, 'save_dir': '/home/Duke/group/main/sandbox', 'tb_path': '/home/Duke/group/main/tb', 'task': 'height_estimation', 'exp_name': 'vgg16_lr0.00021557555723586308_bs16', 'seg_architecture': 'UNet', 'seg_backbone': 'vgg16', 'learning_rate': 0.00021557555723586308, 'batch_size': 16, 'seg_dataset': 'inital_test', 'loss_fn': 'MSE', 'optimizer': 'Adam', 'patience': 10, 'eval_split': 'test'}\n"
     ]
    },
    {
     "name": "stderr",
     "output_type": "stream",
     "text": [
      "GPU available: True (cuda), used: True\n",
      "TPU available: False, using: 0 TPU cores\n",
      "IPU available: False, using: 0 IPUs\n",
      "HPU available: False, using: 0 HPUs\n",
      "LOCAL_RANK: 0 - CUDA_VISIBLE_DEVICES: [0]\n"
     ]
    },
    {
     "name": "stdout",
     "output_type": "stream",
     "text": [
      "Testing DataLoader 0: 100%|██████████| 135/135 [00:25<00:00,  5.20it/s]1.1868013143539429\n",
      "Testing DataLoader 0: 100%|██████████| 135/135 [00:25<00:00,  5.20it/s]\n",
      "────────────────────────────────────────────────────────────────────────────────────────────────────────────────────────\n",
      "       Test metric             DataLoader 0\n",
      "────────────────────────────────────────────────────────────────────────────────────────────────────────────────────────\n",
      "        test_loss           1.1868013143539429\n",
      "────────────────────────────────────────────────────────────────────────────────────────────────────────────────────────\n",
      "test_loss: 1.1868013143539429\n",
      "{'save_dir': '/home/Duke/group/main/sandbox', 'tb_path': '/home/Duke/group/main/tb', 'task': 'height_estimation', 'exp_name': 'meanband-1am-1030', 'seg_architecture': 'UNet', 'seg_backbone': 'resnet18', 'seg_dataset': 'inital_test', 'learning_rate': 0.0001, 'batch_size': 4, 'loss_fn': 'MSE', 'optimizer': 'Adam', 'patience': 10, 'eval_split': 'test'}\n"
     ]
    },
    {
     "name": "stderr",
     "output_type": "stream",
     "text": [
      "GPU available: True (cuda), used: True\n",
      "TPU available: False, using: 0 TPU cores\n",
      "IPU available: False, using: 0 IPUs\n",
      "HPU available: False, using: 0 HPUs\n",
      "LOCAL_RANK: 0 - CUDA_VISIBLE_DEVICES: [0]\n"
     ]
    },
    {
     "name": "stdout",
     "output_type": "stream",
     "text": [
      "Testing DataLoader 0: 100%|██████████| 537/537 [00:25<00:00, 21.22it/s]1.2508916854858398\n",
      "Testing DataLoader 0: 100%|██████████| 537/537 [00:25<00:00, 21.20it/s]\n",
      "────────────────────────────────────────────────────────────────────────────────────────────────────────────────────────\n",
      "       Test metric             DataLoader 0\n",
      "────────────────────────────────────────────────────────────────────────────────────────────────────────────────────────\n",
      "        test_loss           1.2508916854858398\n",
      "────────────────────────────────────────────────────────────────────────────────────────────────────────────────────────\n",
      "test_loss: 1.2508916854858398\n",
      "{'config': {'learning_rate': 0.0001604251038884899, 'batch_size': 8, 'seg_backbone': 'resnet34'}, 'save_dir': '/home/Duke/group/main/sandbox', 'tb_path': '/home/Duke/group/main/tb', 'task': 'height_estimation', 'exp_name': 'resnet34_lr1.604e-04_bs8', 'seg_architecture': 'UNet', 'seg_backbone': 'resnet34', 'learning_rate': 0.0001604251038884899, 'batch_size': 8, 'seg_dataset': 'inital_test', 'loss_fn': 'MSE', 'optimizer': 'Adam', 'patience': 5, 'eval_split': 'test'}\n"
     ]
    },
    {
     "name": "stderr",
     "output_type": "stream",
     "text": [
      "GPU available: True (cuda), used: True\n",
      "TPU available: False, using: 0 TPU cores\n",
      "IPU available: False, using: 0 IPUs\n",
      "HPU available: False, using: 0 HPUs\n",
      "LOCAL_RANK: 0 - CUDA_VISIBLE_DEVICES: [0]\n"
     ]
    },
    {
     "name": "stdout",
     "output_type": "stream",
     "text": [
      "Testing DataLoader 0: 100%|██████████| 269/269 [00:25<00:00, 10.62it/s]1.3595911264419556\n",
      "Testing DataLoader 0: 100%|██████████| 269/269 [00:25<00:00, 10.61it/s]\n",
      "────────────────────────────────────────────────────────────────────────────────────────────────────────────────────────\n",
      "       Test metric             DataLoader 0\n",
      "────────────────────────────────────────────────────────────────────────────────────────────────────────────────────────\n",
      "        test_loss           1.3595911264419556\n",
      "────────────────────────────────────────────────────────────────────────────────────────────────────────────────────────\n",
      "test_loss: 1.3595911264419556\n",
      "{'save_dir': '/home/Duke/group/main/sandbox', 'tb_path': '/home/Duke/group/main/tb', 'task': 'height_estimation', 'exp_name': 'base-0001-vgg16', 'seg_architecture': 'UNet', 'seg_backbone': 'vgg16', 'seg_dataset': 'inital_test', 'learning_rate': 0.0001, 'batch_size': 4, 'loss_fn': 'MSE', 'optimizer': 'Adam', 'patience': 10, 'eval_split': 'test'}\n"
     ]
    },
    {
     "name": "stderr",
     "output_type": "stream",
     "text": [
      "GPU available: True (cuda), used: True\n",
      "TPU available: False, using: 0 TPU cores\n",
      "IPU available: False, using: 0 IPUs\n",
      "HPU available: False, using: 0 HPUs\n",
      "LOCAL_RANK: 0 - CUDA_VISIBLE_DEVICES: [0]\n"
     ]
    },
    {
     "name": "stdout",
     "output_type": "stream",
     "text": [
      "Testing DataLoader 0: 100%|██████████| 537/537 [00:27<00:00, 19.49it/s]1.2013353109359741\n",
      "Testing DataLoader 0: 100%|██████████| 537/537 [00:27<00:00, 19.48it/s]\n",
      "────────────────────────────────────────────────────────────────────────────────────────────────────────────────────────\n",
      "       Test metric             DataLoader 0\n",
      "────────────────────────────────────────────────────────────────────────────────────────────────────────────────────────\n",
      "        test_loss           1.2013353109359741\n",
      "────────────────────────────────────────────────────────────────────────────────────────────────────────────────────────\n",
      "test_loss: 1.2013353109359741\n",
      "{'config': {'learning_rate': 0.0008361511530739464, 'batch_size': 2, 'seg_backbone': 'vgg16'}, 'save_dir': '/home/Duke/group/main/sandbox', 'tb_path': '/home/Duke/group/main/tb', 'task': 'height_estimation', 'exp_name': 'vgg16_lr0.0008361511530739464_bs2', 'seg_architecture': 'UNet', 'seg_backbone': 'vgg16', 'learning_rate': 0.0008361511530739464, 'batch_size': 2, 'seg_dataset': 'inital_test', 'loss_fn': 'MSE', 'optimizer': 'Adam', 'patience': 10, 'eval_split': 'test'}\n"
     ]
    },
    {
     "name": "stderr",
     "output_type": "stream",
     "text": [
      "GPU available: True (cuda), used: True\n",
      "TPU available: False, using: 0 TPU cores\n",
      "IPU available: False, using: 0 IPUs\n",
      "HPU available: False, using: 0 HPUs\n",
      "LOCAL_RANK: 0 - CUDA_VISIBLE_DEVICES: [0]\n"
     ]
    },
    {
     "name": "stdout",
     "output_type": "stream",
     "text": [
      "Testing DataLoader 0: 100%|██████████| 1073/1073 [00:31<00:00, 34.58it/s]1.1991403102874756\n",
      "Testing DataLoader 0: 100%|██████████| 1073/1073 [00:31<00:00, 34.55it/s]\n",
      "────────────────────────────────────────────────────────────────────────────────────────────────────────────────────────\n",
      "       Test metric             DataLoader 0\n",
      "────────────────────────────────────────────────────────────────────────────────────────────────────────────────────────\n",
      "        test_loss           1.1991403102874756\n",
      "────────────────────────────────────────────────────────────────────────────────────────────────────────────────────────\n",
      "test_loss: 1.1991403102874756\n",
      "{'config': {'learning_rate': 2.5259766946635533e-05, 'batch_size': 2, 'seg_backbone': 'efficientnet-b0'}, 'save_dir': '/home/Duke/group/main/sandbox', 'tb_path': '/home/Duke/group/main/tb', 'task': 'height_estimation', 'exp_name': 'efficientnet-b0_lr2.5259766946635533e-05_bs2', 'seg_architecture': 'UNet', 'seg_backbone': 'efficientnet-b0', 'learning_rate': 2.5259766946635533e-05, 'batch_size': 2, 'seg_dataset': 'inital_test', 'loss_fn': 'MSE', 'optimizer': 'Adam', 'patience': 10, 'eval_split': 'test'}\n"
     ]
    },
    {
     "name": "stderr",
     "output_type": "stream",
     "text": [
      "GPU available: True (cuda), used: True\n",
      "TPU available: False, using: 0 TPU cores\n",
      "IPU available: False, using: 0 IPUs\n",
      "HPU available: False, using: 0 HPUs\n",
      "LOCAL_RANK: 0 - CUDA_VISIBLE_DEVICES: [0]\n"
     ]
    },
    {
     "name": "stdout",
     "output_type": "stream",
     "text": [
      "Testing DataLoader 0: 100%|██████████| 1073/1073 [00:36<00:00, 29.40it/s]1.3272210359573364\n",
      "Testing DataLoader 0: 100%|██████████| 1073/1073 [00:36<00:00, 29.38it/s]\n",
      "────────────────────────────────────────────────────────────────────────────────────────────────────────────────────────\n",
      "       Test metric             DataLoader 0\n",
      "────────────────────────────────────────────────────────────────────────────────────────────────────────────────────────\n",
      "        test_loss           1.3272210359573364\n",
      "────────────────────────────────────────────────────────────────────────────────────────────────────────────────────────\n",
      "test_loss: 1.3272210359573364\n"
     ]
    }
   ],
   "source": [
    "for ckpt_path in df['Ckpt Files']:\n",
    "    cleaned_path = ckpt_path.strip('[]')  # Remove the square brackets\n",
    "    %run height_estimation.py test --ckpt_path=$cleaned_path\n"
   ]
  },
  {
   "cell_type": "code",
   "execution_count": 1,
   "metadata": {},
   "outputs": [
    {
     "name": "stdout",
     "output_type": "stream",
     "text": [
      "                                     Folder Name  Minimal val_loss  Epoch\n",
      "0                       resnet50_lr4.115e-04_bs8          1.207024     20\n",
      "1                                base-0001-vgg19          1.196452     35\n",
      "2                      resnet34_lr4.335e-04_bs16          1.263845      5\n",
      "3                       resnet34_lr2.092e-05_bs4          1.305420     11\n",
      "4              vgg16_lr0.0008909465453111635_bs4          1.178649     36\n",
      "5                      resnet50_lr7.279e-04_bs16          1.240781     18\n",
      "6            vgg16_lr0.00021557555723586308_bs16          1.184497     32\n",
      "7                                      mean-band          1.253045     13\n",
      "8                       resnet34_lr1.604e-04_bs8          1.364487      2\n",
      "9                                base-0001-vgg16          1.189550     41\n",
      "10                               vit-1e-4-batch4          1.231350     11\n",
      "11             vgg16_lr0.0008361511530739464_bs2          1.182297     37\n",
      "12  efficientnet-b0_lr2.5259766946635533e-05_bs2          1.330242     11\n"
     ]
    }
   ],
   "source": [
    "import os\n",
    "import pandas as pd\n",
    "\n",
    "# Define the path to the main folder\n",
    "main_folder_path = '/home/Duke/group/main/tb'\n",
    "\n",
    "# Create empty lists to store the minimal val_loss and corresponding epoch for each folder\n",
    "min_val_loss_list = []\n",
    "corresponding_epoch_list = []\n",
    "\n",
    "# Loop through each folder in the main folder\n",
    "for folder_name in os.listdir(main_folder_path):\n",
    "    # Define the path to the metrics.csv file in the current folder\n",
    "    metrics_file_path = os.path.join(main_folder_path, folder_name, 'metrics.csv')\n",
    "    \n",
    "    # Read the metrics.csv file into a pandas dataframe\n",
    "    metrics_df = pd.read_csv(metrics_file_path)\n",
    "    \n",
    "    # Find the row with the minimal val_loss and extract the value and corresponding epoch\n",
    "    min_val_loss_index = metrics_df['val_loss'].idxmin()\n",
    "    min_val_loss = metrics_df.loc[min_val_loss_index, 'val_loss']\n",
    "    corresponding_epoch = metrics_df.loc[min_val_loss_index, 'epoch']\n",
    "    \n",
    "    # Append the minimal val_loss and corresponding epoch to the lists\n",
    "    min_val_loss_list.append(min_val_loss)\n",
    "    corresponding_epoch_list.append(corresponding_epoch)\n",
    "\n",
    "# Create a pandas dataframe with the minimal val_loss and corresponding epoch for each folder\n",
    "df = pd.DataFrame({'Folder Name': os.listdir(main_folder_path), 'Minimal val_loss': min_val_loss_list, 'Epoch': corresponding_epoch_list})\n",
    "print(df)\n"
   ]
  },
  {
   "cell_type": "code",
   "execution_count": 8,
   "metadata": {},
   "outputs": [],
   "source": [
    "df.to_csv('/home/Duke/min_val_loss.csv', index=False)"
   ]
  },
  {
   "cell_type": "code",
   "execution_count": 1,
   "metadata": {},
   "outputs": [
    {
     "name": "stderr",
     "output_type": "stream",
     "text": [
      "/opt/conda/envs/building-heights/lib/python3.8/site-packages/tqdm/auto.py:21: TqdmWarning: IProgress not found. Please update jupyter and ipywidgets. See https://ipywidgets.readthedocs.io/en/stable/user_install.html\n",
      "  from .autonotebook import tqdm as notebook_tqdm\n"
     ]
    },
    {
     "name": "stdout",
     "output_type": "stream",
     "text": [
      "{'save_dir': '/home/Duke/group/main/sandbox', 'tb_path': '/home/Duke/group/main/tb', 'task': 'height_estimation', 'exp_name': 'vit-1e-4-batch4', 'seg_architecture': 'UNet', 'seg_backbone': 'mit_b1', 'seg_dataset': 'inital_test', 'learning_rate': 0.0001, 'batch_size': 4, 'loss_fn': 'MSE', 'optimizer': 'Adam', 'patience': 10, 'eval_split': 'test'}\n"
     ]
    },
    {
     "name": "stderr",
     "output_type": "stream",
     "text": [
      "GPU available: True (cuda), used: True\n",
      "TPU available: False, using: 0 TPU cores\n",
      "IPU available: False, using: 0 IPUs\n",
      "HPU available: False, using: 0 HPUs\n",
      "Missing logger folder: /home/Duke/Building-Heights/lightning_logs\n",
      "LOCAL_RANK: 0 - CUDA_VISIBLE_DEVICES: [0]\n"
     ]
    },
    {
     "name": "stdout",
     "output_type": "stream",
     "text": [
      "Testing DataLoader 0:   0%|          | 0/537 [00:00<?, ?it/s]"
     ]
    },
    {
     "ename": "PermissionError",
     "evalue": "[Errno 13] Permission denied: '/home/DUke'",
     "output_type": "error",
     "traceback": [
      "\u001b[0;31m---------------------------------------------------------------------------\u001b[0m",
      "\u001b[0;31mPermissionError\u001b[0m                           Traceback (most recent call last)",
      "File \u001b[0;32m~/Building-Heights/height_estimation.py:89\u001b[0m\n\u001b[1;32m     87\u001b[0m     \u001b[39mreturn\u001b[39;00m task\u001b[39m.\u001b[39meval_results\n\u001b[1;32m     88\u001b[0m \u001b[39mif\u001b[39;00m \u001b[39m__name__\u001b[39m \u001b[39m==\u001b[39m \u001b[39m\"\u001b[39m\u001b[39m__main__\u001b[39m\u001b[39m\"\u001b[39m:\n\u001b[0;32m---> 89\u001b[0m     fire\u001b[39m.\u001b[39;49mFire()\n",
      "File \u001b[0;32m/opt/conda/envs/building-heights/lib/python3.8/site-packages/fire/core.py:141\u001b[0m, in \u001b[0;36mFire\u001b[0;34m(component, command, name, serialize)\u001b[0m\n\u001b[1;32m    138\u001b[0m   context\u001b[39m.\u001b[39mupdate(caller_globals)\n\u001b[1;32m    139\u001b[0m   context\u001b[39m.\u001b[39mupdate(caller_locals)\n\u001b[0;32m--> 141\u001b[0m component_trace \u001b[39m=\u001b[39m _Fire(component, args, parsed_flag_args, context, name)\n\u001b[1;32m    143\u001b[0m \u001b[39mif\u001b[39;00m component_trace\u001b[39m.\u001b[39mHasError():\n\u001b[1;32m    144\u001b[0m   _DisplayError(component_trace)\n",
      "File \u001b[0;32m/opt/conda/envs/building-heights/lib/python3.8/site-packages/fire/core.py:475\u001b[0m, in \u001b[0;36m_Fire\u001b[0;34m(component, args, parsed_flag_args, context, name)\u001b[0m\n\u001b[1;32m    472\u001b[0m is_class \u001b[39m=\u001b[39m inspect\u001b[39m.\u001b[39misclass(component)\n\u001b[1;32m    474\u001b[0m \u001b[39mtry\u001b[39;00m:\n\u001b[0;32m--> 475\u001b[0m   component, remaining_args \u001b[39m=\u001b[39m _CallAndUpdateTrace(\n\u001b[1;32m    476\u001b[0m       component,\n\u001b[1;32m    477\u001b[0m       remaining_args,\n\u001b[1;32m    478\u001b[0m       component_trace,\n\u001b[1;32m    479\u001b[0m       treatment\u001b[39m=\u001b[39;49m\u001b[39m'\u001b[39;49m\u001b[39mclass\u001b[39;49m\u001b[39m'\u001b[39;49m \u001b[39mif\u001b[39;49;00m is_class \u001b[39melse\u001b[39;49;00m \u001b[39m'\u001b[39;49m\u001b[39mroutine\u001b[39;49m\u001b[39m'\u001b[39;49m,\n\u001b[1;32m    480\u001b[0m       target\u001b[39m=\u001b[39;49mcomponent\u001b[39m.\u001b[39;49m\u001b[39m__name__\u001b[39;49m)\n\u001b[1;32m    481\u001b[0m   handled \u001b[39m=\u001b[39m \u001b[39mTrue\u001b[39;00m\n\u001b[1;32m    482\u001b[0m \u001b[39mexcept\u001b[39;00m FireError \u001b[39mas\u001b[39;00m error:\n",
      "File \u001b[0;32m/opt/conda/envs/building-heights/lib/python3.8/site-packages/fire/core.py:691\u001b[0m, in \u001b[0;36m_CallAndUpdateTrace\u001b[0;34m(component, args, component_trace, treatment, target)\u001b[0m\n\u001b[1;32m    689\u001b[0m   component \u001b[39m=\u001b[39m loop\u001b[39m.\u001b[39mrun_until_complete(fn(\u001b[39m*\u001b[39mvarargs, \u001b[39m*\u001b[39m\u001b[39m*\u001b[39mkwargs))\n\u001b[1;32m    690\u001b[0m \u001b[39melse\u001b[39;00m:\n\u001b[0;32m--> 691\u001b[0m   component \u001b[39m=\u001b[39m fn(\u001b[39m*\u001b[39;49mvarargs, \u001b[39m*\u001b[39;49m\u001b[39m*\u001b[39;49mkwargs)\n\u001b[1;32m    693\u001b[0m \u001b[39mif\u001b[39;00m treatment \u001b[39m==\u001b[39m \u001b[39m'\u001b[39m\u001b[39mclass\u001b[39m\u001b[39m'\u001b[39m:\n\u001b[1;32m    694\u001b[0m   action \u001b[39m=\u001b[39m trace\u001b[39m.\u001b[39mINSTANTIATED_CLASS\n",
      "File \u001b[0;32m~/Building-Heights/height_estimation.py:86\u001b[0m, in \u001b[0;36mtest\u001b[0;34m(ckpt_path, eval_split, **kwargs)\u001b[0m\n\u001b[1;32m     79\u001b[0m task \u001b[39m=\u001b[39m load_task(\n\u001b[1;32m     80\u001b[0m     ckpt_path,\n\u001b[1;32m     81\u001b[0m     eval_split\u001b[39m=\u001b[39meval_split,\n\u001b[1;32m     82\u001b[0m     task\u001b[39m=\u001b[39m\u001b[39m\"\u001b[39m\u001b[39mheight_estimation\u001b[39m\u001b[39m\"\u001b[39m,\n\u001b[1;32m     83\u001b[0m     \u001b[39m*\u001b[39m\u001b[39m*\u001b[39mkwargs\n\u001b[1;32m     84\u001b[0m )\n\u001b[1;32m     85\u001b[0m trainer \u001b[39m=\u001b[39m Trainer()\n\u001b[0;32m---> 86\u001b[0m trainer\u001b[39m.\u001b[39;49mtest(task)\n\u001b[1;32m     87\u001b[0m \u001b[39mreturn\u001b[39;00m task\u001b[39m.\u001b[39meval_results\n",
      "File \u001b[0;32m/opt/conda/envs/building-heights/lib/python3.8/site-packages/pytorch_lightning/trainer/trainer.py:755\u001b[0m, in \u001b[0;36mTrainer.test\u001b[0;34m(self, model, dataloaders, ckpt_path, verbose, datamodule)\u001b[0m\n\u001b[1;32m    753\u001b[0m \u001b[39mself\u001b[39m\u001b[39m.\u001b[39mstate\u001b[39m.\u001b[39mstatus \u001b[39m=\u001b[39m TrainerStatus\u001b[39m.\u001b[39mRUNNING\n\u001b[1;32m    754\u001b[0m \u001b[39mself\u001b[39m\u001b[39m.\u001b[39mtesting \u001b[39m=\u001b[39m \u001b[39mTrue\u001b[39;00m\n\u001b[0;32m--> 755\u001b[0m \u001b[39mreturn\u001b[39;00m call\u001b[39m.\u001b[39;49m_call_and_handle_interrupt(\n\u001b[1;32m    756\u001b[0m     \u001b[39mself\u001b[39;49m, \u001b[39mself\u001b[39;49m\u001b[39m.\u001b[39;49m_test_impl, model, dataloaders, ckpt_path, verbose, datamodule\n\u001b[1;32m    757\u001b[0m )\n",
      "File \u001b[0;32m/opt/conda/envs/building-heights/lib/python3.8/site-packages/pytorch_lightning/trainer/call.py:44\u001b[0m, in \u001b[0;36m_call_and_handle_interrupt\u001b[0;34m(trainer, trainer_fn, *args, **kwargs)\u001b[0m\n\u001b[1;32m     42\u001b[0m     \u001b[39mif\u001b[39;00m trainer\u001b[39m.\u001b[39mstrategy\u001b[39m.\u001b[39mlauncher \u001b[39mis\u001b[39;00m \u001b[39mnot\u001b[39;00m \u001b[39mNone\u001b[39;00m:\n\u001b[1;32m     43\u001b[0m         \u001b[39mreturn\u001b[39;00m trainer\u001b[39m.\u001b[39mstrategy\u001b[39m.\u001b[39mlauncher\u001b[39m.\u001b[39mlaunch(trainer_fn, \u001b[39m*\u001b[39margs, trainer\u001b[39m=\u001b[39mtrainer, \u001b[39m*\u001b[39m\u001b[39m*\u001b[39mkwargs)\n\u001b[0;32m---> 44\u001b[0m     \u001b[39mreturn\u001b[39;00m trainer_fn(\u001b[39m*\u001b[39;49margs, \u001b[39m*\u001b[39;49m\u001b[39m*\u001b[39;49mkwargs)\n\u001b[1;32m     46\u001b[0m \u001b[39mexcept\u001b[39;00m _TunerExitException:\n\u001b[1;32m     47\u001b[0m     _call_teardown_hook(trainer)\n",
      "File \u001b[0;32m/opt/conda/envs/building-heights/lib/python3.8/site-packages/pytorch_lightning/trainer/trainer.py:795\u001b[0m, in \u001b[0;36mTrainer._test_impl\u001b[0;34m(self, model, dataloaders, ckpt_path, verbose, datamodule)\u001b[0m\n\u001b[1;32m    791\u001b[0m \u001b[39massert\u001b[39;00m \u001b[39mself\u001b[39m\u001b[39m.\u001b[39mstate\u001b[39m.\u001b[39mfn \u001b[39mis\u001b[39;00m \u001b[39mnot\u001b[39;00m \u001b[39mNone\u001b[39;00m\n\u001b[1;32m    792\u001b[0m ckpt_path \u001b[39m=\u001b[39m \u001b[39mself\u001b[39m\u001b[39m.\u001b[39m_checkpoint_connector\u001b[39m.\u001b[39m_select_ckpt_path(\n\u001b[1;32m    793\u001b[0m     \u001b[39mself\u001b[39m\u001b[39m.\u001b[39mstate\u001b[39m.\u001b[39mfn, ckpt_path, model_provided\u001b[39m=\u001b[39mmodel_provided, model_connected\u001b[39m=\u001b[39m\u001b[39mself\u001b[39m\u001b[39m.\u001b[39mlightning_module \u001b[39mis\u001b[39;00m \u001b[39mnot\u001b[39;00m \u001b[39mNone\u001b[39;00m\n\u001b[1;32m    794\u001b[0m )\n\u001b[0;32m--> 795\u001b[0m results \u001b[39m=\u001b[39m \u001b[39mself\u001b[39;49m\u001b[39m.\u001b[39;49m_run(model, ckpt_path\u001b[39m=\u001b[39;49mckpt_path)\n\u001b[1;32m    796\u001b[0m \u001b[39m# remove the tensors from the test results\u001b[39;00m\n\u001b[1;32m    797\u001b[0m results \u001b[39m=\u001b[39m convert_tensors_to_scalars(results)\n",
      "File \u001b[0;32m/opt/conda/envs/building-heights/lib/python3.8/site-packages/pytorch_lightning/trainer/trainer.py:990\u001b[0m, in \u001b[0;36mTrainer._run\u001b[0;34m(self, model, ckpt_path)\u001b[0m\n\u001b[1;32m    985\u001b[0m \u001b[39mself\u001b[39m\u001b[39m.\u001b[39m_signal_connector\u001b[39m.\u001b[39mregister_signal_handlers()\n\u001b[1;32m    987\u001b[0m \u001b[39m# ----------------------------\u001b[39;00m\n\u001b[1;32m    988\u001b[0m \u001b[39m# RUN THE TRAINER\u001b[39;00m\n\u001b[1;32m    989\u001b[0m \u001b[39m# ----------------------------\u001b[39;00m\n\u001b[0;32m--> 990\u001b[0m results \u001b[39m=\u001b[39m \u001b[39mself\u001b[39;49m\u001b[39m.\u001b[39;49m_run_stage()\n\u001b[1;32m    992\u001b[0m \u001b[39m# ----------------------------\u001b[39;00m\n\u001b[1;32m    993\u001b[0m \u001b[39m# POST-Training CLEAN UP\u001b[39;00m\n\u001b[1;32m    994\u001b[0m \u001b[39m# ----------------------------\u001b[39;00m\n\u001b[1;32m    995\u001b[0m log\u001b[39m.\u001b[39mdebug(\u001b[39mf\u001b[39m\u001b[39m\"\u001b[39m\u001b[39m{\u001b[39;00m\u001b[39mself\u001b[39m\u001b[39m.\u001b[39m\u001b[39m__class__\u001b[39m\u001b[39m.\u001b[39m\u001b[39m__name__\u001b[39m\u001b[39m}\u001b[39;00m\u001b[39m: trainer tearing down\u001b[39m\u001b[39m\"\u001b[39m)\n",
      "File \u001b[0;32m/opt/conda/envs/building-heights/lib/python3.8/site-packages/pytorch_lightning/trainer/trainer.py:1029\u001b[0m, in \u001b[0;36mTrainer._run_stage\u001b[0;34m(self)\u001b[0m\n\u001b[1;32m   1026\u001b[0m \u001b[39mself\u001b[39m\u001b[39m.\u001b[39mlightning_module\u001b[39m.\u001b[39mzero_grad(\u001b[39m*\u001b[39m\u001b[39m*\u001b[39mzero_grad_kwargs)\n\u001b[1;32m   1028\u001b[0m \u001b[39mif\u001b[39;00m \u001b[39mself\u001b[39m\u001b[39m.\u001b[39mevaluating:\n\u001b[0;32m-> 1029\u001b[0m     \u001b[39mreturn\u001b[39;00m \u001b[39mself\u001b[39;49m\u001b[39m.\u001b[39;49m_evaluation_loop\u001b[39m.\u001b[39;49mrun()\n\u001b[1;32m   1030\u001b[0m \u001b[39mif\u001b[39;00m \u001b[39mself\u001b[39m\u001b[39m.\u001b[39mpredicting:\n\u001b[1;32m   1031\u001b[0m     \u001b[39mreturn\u001b[39;00m \u001b[39mself\u001b[39m\u001b[39m.\u001b[39mpredict_loop\u001b[39m.\u001b[39mrun()\n",
      "File \u001b[0;32m/opt/conda/envs/building-heights/lib/python3.8/site-packages/pytorch_lightning/loops/utilities.py:181\u001b[0m, in \u001b[0;36m_no_grad_context.<locals>._decorator\u001b[0;34m(self, *args, **kwargs)\u001b[0m\n\u001b[1;32m    179\u001b[0m     context_manager \u001b[39m=\u001b[39m torch\u001b[39m.\u001b[39mno_grad\n\u001b[1;32m    180\u001b[0m \u001b[39mwith\u001b[39;00m context_manager():\n\u001b[0;32m--> 181\u001b[0m     \u001b[39mreturn\u001b[39;00m loop_run(\u001b[39mself\u001b[39;49m, \u001b[39m*\u001b[39;49margs, \u001b[39m*\u001b[39;49m\u001b[39m*\u001b[39;49mkwargs)\n",
      "File \u001b[0;32m/opt/conda/envs/building-heights/lib/python3.8/site-packages/pytorch_lightning/loops/evaluation_loop.py:134\u001b[0m, in \u001b[0;36m_EvaluationLoop.run\u001b[0;34m(self)\u001b[0m\n\u001b[1;32m    132\u001b[0m     \u001b[39mself\u001b[39m\u001b[39m.\u001b[39mbatch_progress\u001b[39m.\u001b[39mis_last_batch \u001b[39m=\u001b[39m data_fetcher\u001b[39m.\u001b[39mdone\n\u001b[1;32m    133\u001b[0m     \u001b[39m# run step hooks\u001b[39;00m\n\u001b[0;32m--> 134\u001b[0m     \u001b[39mself\u001b[39;49m\u001b[39m.\u001b[39;49m_evaluation_step(batch, batch_idx, dataloader_idx, dataloader_iter)\n\u001b[1;32m    135\u001b[0m \u001b[39mexcept\u001b[39;00m \u001b[39mStopIteration\u001b[39;00m:\n\u001b[1;32m    136\u001b[0m     \u001b[39m# this needs to wrap the `*_step` call too (not just `next`) for `dataloader_iter` support\u001b[39;00m\n\u001b[1;32m    137\u001b[0m     \u001b[39mbreak\u001b[39;00m\n",
      "File \u001b[0;32m/opt/conda/envs/building-heights/lib/python3.8/site-packages/pytorch_lightning/loops/evaluation_loop.py:391\u001b[0m, in \u001b[0;36m_EvaluationLoop._evaluation_step\u001b[0;34m(self, batch, batch_idx, dataloader_idx, dataloader_iter)\u001b[0m\n\u001b[1;32m    385\u001b[0m hook_name \u001b[39m=\u001b[39m \u001b[39m\"\u001b[39m\u001b[39mtest_step\u001b[39m\u001b[39m\"\u001b[39m \u001b[39mif\u001b[39;00m trainer\u001b[39m.\u001b[39mtesting \u001b[39melse\u001b[39;00m \u001b[39m\"\u001b[39m\u001b[39mvalidation_step\u001b[39m\u001b[39m\"\u001b[39m\n\u001b[1;32m    386\u001b[0m step_args \u001b[39m=\u001b[39m (\n\u001b[1;32m    387\u001b[0m     \u001b[39mself\u001b[39m\u001b[39m.\u001b[39m_build_step_args_from_hook_kwargs(hook_kwargs, hook_name)\n\u001b[1;32m    388\u001b[0m     \u001b[39mif\u001b[39;00m \u001b[39mnot\u001b[39;00m using_dataloader_iter\n\u001b[1;32m    389\u001b[0m     \u001b[39melse\u001b[39;00m (dataloader_iter,)\n\u001b[1;32m    390\u001b[0m )\n\u001b[0;32m--> 391\u001b[0m output \u001b[39m=\u001b[39m call\u001b[39m.\u001b[39;49m_call_strategy_hook(trainer, hook_name, \u001b[39m*\u001b[39;49mstep_args)\n\u001b[1;32m    393\u001b[0m \u001b[39mself\u001b[39m\u001b[39m.\u001b[39mbatch_progress\u001b[39m.\u001b[39mincrement_processed()\n\u001b[1;32m    395\u001b[0m \u001b[39mif\u001b[39;00m using_dataloader_iter:\n\u001b[1;32m    396\u001b[0m     \u001b[39m# update the hook kwargs now that the step method might have consumed the iterator\u001b[39;00m\n",
      "File \u001b[0;32m/opt/conda/envs/building-heights/lib/python3.8/site-packages/pytorch_lightning/trainer/call.py:309\u001b[0m, in \u001b[0;36m_call_strategy_hook\u001b[0;34m(trainer, hook_name, *args, **kwargs)\u001b[0m\n\u001b[1;32m    306\u001b[0m     \u001b[39mreturn\u001b[39;00m \u001b[39mNone\u001b[39;00m\n\u001b[1;32m    308\u001b[0m \u001b[39mwith\u001b[39;00m trainer\u001b[39m.\u001b[39mprofiler\u001b[39m.\u001b[39mprofile(\u001b[39mf\u001b[39m\u001b[39m\"\u001b[39m\u001b[39m[Strategy]\u001b[39m\u001b[39m{\u001b[39;00mtrainer\u001b[39m.\u001b[39mstrategy\u001b[39m.\u001b[39m\u001b[39m__class__\u001b[39m\u001b[39m.\u001b[39m\u001b[39m__name__\u001b[39m\u001b[39m}\u001b[39;00m\u001b[39m.\u001b[39m\u001b[39m{\u001b[39;00mhook_name\u001b[39m}\u001b[39;00m\u001b[39m\"\u001b[39m):\n\u001b[0;32m--> 309\u001b[0m     output \u001b[39m=\u001b[39m fn(\u001b[39m*\u001b[39;49margs, \u001b[39m*\u001b[39;49m\u001b[39m*\u001b[39;49mkwargs)\n\u001b[1;32m    311\u001b[0m \u001b[39m# restore current_fx when nested context\u001b[39;00m\n\u001b[1;32m    312\u001b[0m pl_module\u001b[39m.\u001b[39m_current_fx_name \u001b[39m=\u001b[39m prev_fx_name\n",
      "File \u001b[0;32m/opt/conda/envs/building-heights/lib/python3.8/site-packages/pytorch_lightning/strategies/strategy.py:416\u001b[0m, in \u001b[0;36mStrategy.test_step\u001b[0;34m(self, *args, **kwargs)\u001b[0m\n\u001b[1;32m    414\u001b[0m \u001b[39mif\u001b[39;00m \u001b[39mself\u001b[39m\u001b[39m.\u001b[39mmodel \u001b[39m!=\u001b[39m \u001b[39mself\u001b[39m\u001b[39m.\u001b[39mlightning_module:\n\u001b[1;32m    415\u001b[0m     \u001b[39mreturn\u001b[39;00m \u001b[39mself\u001b[39m\u001b[39m.\u001b[39m_forward_redirection(\u001b[39mself\u001b[39m\u001b[39m.\u001b[39mmodel, \u001b[39mself\u001b[39m\u001b[39m.\u001b[39mlightning_module, \u001b[39m\"\u001b[39m\u001b[39mtest_step\u001b[39m\u001b[39m\"\u001b[39m, \u001b[39m*\u001b[39margs, \u001b[39m*\u001b[39m\u001b[39m*\u001b[39mkwargs)\n\u001b[0;32m--> 416\u001b[0m \u001b[39mreturn\u001b[39;00m \u001b[39mself\u001b[39;49m\u001b[39m.\u001b[39;49mlightning_module\u001b[39m.\u001b[39;49mtest_step(\u001b[39m*\u001b[39;49margs, \u001b[39m*\u001b[39;49m\u001b[39m*\u001b[39;49mkwargs)\n",
      "File \u001b[0;32m~/Building-Heights/lightning/height_estimation.py:157\u001b[0m, in \u001b[0;36mHeightEstimationTask.test_step\u001b[0;34m(self, batch, batch_nb)\u001b[0m\n\u001b[1;32m    155\u001b[0m os\u001b[39m.\u001b[39mmakedirs(os\u001b[39m.\u001b[39mpath\u001b[39m.\u001b[39mdirname(img_path), exist_ok\u001b[39m=\u001b[39m\u001b[39mTrue\u001b[39;00m)\n\u001b[1;32m    156\u001b[0m os\u001b[39m.\u001b[39mmakedirs(os\u001b[39m.\u001b[39mpath\u001b[39m.\u001b[39mdirname(mask_path), exist_ok\u001b[39m=\u001b[39m\u001b[39mTrue\u001b[39;00m)\n\u001b[0;32m--> 157\u001b[0m os\u001b[39m.\u001b[39;49mmakedirs(os\u001b[39m.\u001b[39;49mpath\u001b[39m.\u001b[39;49mdirname(logits_path), exist_ok\u001b[39m=\u001b[39;49m\u001b[39mTrue\u001b[39;49;00m)\n\u001b[1;32m    159\u001b[0m \u001b[39m# Save image, mask, and logits\u001b[39;00m\n\u001b[1;32m    160\u001b[0m transforms\u001b[39m.\u001b[39mToPILImage()(x[i, \u001b[39m-\u001b[39m\u001b[39m3\u001b[39m:, :, :])\u001b[39m.\u001b[39msave(img_path)\n",
      "File \u001b[0;32m/opt/conda/envs/building-heights/lib/python3.8/os.py:213\u001b[0m, in \u001b[0;36mmakedirs\u001b[0;34m(name, mode, exist_ok)\u001b[0m\n\u001b[1;32m    211\u001b[0m \u001b[39mif\u001b[39;00m head \u001b[39mand\u001b[39;00m tail \u001b[39mand\u001b[39;00m \u001b[39mnot\u001b[39;00m path\u001b[39m.\u001b[39mexists(head):\n\u001b[1;32m    212\u001b[0m     \u001b[39mtry\u001b[39;00m:\n\u001b[0;32m--> 213\u001b[0m         makedirs(head, exist_ok\u001b[39m=\u001b[39;49mexist_ok)\n\u001b[1;32m    214\u001b[0m     \u001b[39mexcept\u001b[39;00m \u001b[39mFileExistsError\u001b[39;00m:\n\u001b[1;32m    215\u001b[0m         \u001b[39m# Defeats race condition when another thread created the path\u001b[39;00m\n\u001b[1;32m    216\u001b[0m         \u001b[39mpass\u001b[39;00m\n",
      "File \u001b[0;32m/opt/conda/envs/building-heights/lib/python3.8/os.py:213\u001b[0m, in \u001b[0;36mmakedirs\u001b[0;34m(name, mode, exist_ok)\u001b[0m\n\u001b[1;32m    211\u001b[0m \u001b[39mif\u001b[39;00m head \u001b[39mand\u001b[39;00m tail \u001b[39mand\u001b[39;00m \u001b[39mnot\u001b[39;00m path\u001b[39m.\u001b[39mexists(head):\n\u001b[1;32m    212\u001b[0m     \u001b[39mtry\u001b[39;00m:\n\u001b[0;32m--> 213\u001b[0m         makedirs(head, exist_ok\u001b[39m=\u001b[39;49mexist_ok)\n\u001b[1;32m    214\u001b[0m     \u001b[39mexcept\u001b[39;00m \u001b[39mFileExistsError\u001b[39;00m:\n\u001b[1;32m    215\u001b[0m         \u001b[39m# Defeats race condition when another thread created the path\u001b[39;00m\n\u001b[1;32m    216\u001b[0m         \u001b[39mpass\u001b[39;00m\n",
      "File \u001b[0;32m/opt/conda/envs/building-heights/lib/python3.8/os.py:223\u001b[0m, in \u001b[0;36mmakedirs\u001b[0;34m(name, mode, exist_ok)\u001b[0m\n\u001b[1;32m    221\u001b[0m         \u001b[39mreturn\u001b[39;00m\n\u001b[1;32m    222\u001b[0m \u001b[39mtry\u001b[39;00m:\n\u001b[0;32m--> 223\u001b[0m     mkdir(name, mode)\n\u001b[1;32m    224\u001b[0m \u001b[39mexcept\u001b[39;00m \u001b[39mOSError\u001b[39;00m:\n\u001b[1;32m    225\u001b[0m     \u001b[39m# Cannot rely on checking for EEXIST, since the operating system\u001b[39;00m\n\u001b[1;32m    226\u001b[0m     \u001b[39m# could give priority to other errors like EACCES or EROFS\u001b[39;00m\n\u001b[1;32m    227\u001b[0m     \u001b[39mif\u001b[39;00m \u001b[39mnot\u001b[39;00m exist_ok \u001b[39mor\u001b[39;00m \u001b[39mnot\u001b[39;00m path\u001b[39m.\u001b[39misdir(name):\n",
      "\u001b[0;31mPermissionError\u001b[0m: [Errno 13] Permission denied: '/home/DUke'"
     ]
    }
   ],
   "source": [
    "%run height_estimation.py test --ckpt_path='/home/Duke/group/main/sandbox/vit-1e-4-batch4/ckpts/epoch=11-step=51444.ckpt'"
   ]
  },
  {
   "cell_type": "code",
   "execution_count": null,
   "metadata": {},
   "outputs": [],
   "source": []
  }
 ],
 "metadata": {
  "kernelspec": {
   "display_name": "building-heights",
   "language": "python",
   "name": "python3"
  },
  "language_info": {
   "codemirror_mode": {
    "name": "ipython",
    "version": 3
   },
   "file_extension": ".py",
   "mimetype": "text/x-python",
   "name": "python",
   "nbconvert_exporter": "python",
   "pygments_lexer": "ipython3",
   "version": "3.8.18"
  }
 },
 "nbformat": 4,
 "nbformat_minor": 2
}
